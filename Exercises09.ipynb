{
 "cells": [
  {
   "cell_type": "markdown",
   "metadata": {},
   "source": [
    "# Computational Astrophysics\n",
    "## 09. Exercises"
   ]
  },
  {
   "cell_type": "markdown",
   "metadata": {},
   "source": [
    "**Name:** \n",
    "\n",
    "---"
   ]
  },
  {
   "cell_type": "markdown",
   "metadata": {},
   "source": [
    "\n",
    "## 1. Solving Large Linear Systems of Equations\n",
    "\n",
    "In the data directory you will find 5 different Linear Systems of Equations of the form\n",
    "\n",
    "\\begin{equation}\n",
    " A \\mathbf{x} = \\mathbf{b}\\,\\,.\n",
    "\\end{equation} \n",
    "  \n",
    "For each of them there is a file named \"A.dat\" with the information of the matrix $A$ and a file \"b.dat\" with the information of the vector $\\textbf{b}$.\n",
    "\n",
    "\n",
    "1. Read $A$ and $\\mathbf{b}$ of each LSE and allows you to inspect them. How big are they? Can they be solved? (Note that to answer this question you'll need to calculate the determinant of each matrix)\n",
    "\n",
    "**Hint**: Note that if you compute the determinant of the largest matrix, you'll run into floating point overflow!. Hence you may need to use  a `numpy` function that computes the log-determinant...\n",
    "\n",
    "2. Use Gauss elimination and back-substitution to solve the problems.\n",
    "\n",
    "3. You may test the code on a simple problem and then, run it on the 5 LSEs in the data directory.  Use timing (you may need to search how to do this with python) to keep track of how long it takes.\n",
    "\n",
    "3. If Gauss elimination is not  an efficient way to deal with some of the large LSEs, find a `numpy` fast linear solver.  Search how to use it and compare your timing results with those from `numpy`. What method is the `numpy` solver of your choice for solving the LSE?"
   ]
  },
  {
   "cell_type": "markdown",
   "metadata": {},
   "source": [
    "¡¡ Happy Coding !!"
   ]
  }
 ],
 "metadata": {
  "kernelspec": {
   "display_name": "Python 3",
   "language": "python",
   "name": "python3"
  },
  "language_info": {
   "codemirror_mode": {
    "name": "ipython",
    "version": 3
   },
   "file_extension": ".py",
   "mimetype": "text/x-python",
   "name": "python",
   "nbconvert_exporter": "python",
   "pygments_lexer": "ipython3",
   "version": "3.7.4"
  }
 },
 "nbformat": 4,
 "nbformat_minor": 2
}
